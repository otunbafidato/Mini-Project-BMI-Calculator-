{
 "cells": [
  {
   "cell_type": "markdown",
   "id": "34db9d37-3392-4a23-afc0-778a2981de7d",
   "metadata": {},
   "source": [
    "# BMI Calculator (Body Mass Index)"
   ]
  },
  {
   "cell_type": "markdown",
   "id": "c331332d-bca0-4b56-86b7-629442286445",
   "metadata": {},
   "source": [
    "________\n",
    "\n",
    "\n",
    "<img src=\"Screenshot (2).png\" />\n",
    "\n",
    "\n",
    "_______"
   ]
  },
  {
   "cell_type": "markdown",
   "id": "d990fc4b-df35-4123-9acb-8d8224c3a587",
   "metadata": {},
   "source": [
    "* I found this BMI calculator online and it shows the basic calculation they use and i'm just going work on it as my MINI project as i progress in my PYTHON learning.The picture above shows the WEIGHT and HEIGHT ,the picture also shows the ranges that i can use to for my calculator as well.\n",
    "\n",
    "* For REFERENCE, from the picture above which says i weigh '170' and my Height is 5'9 which give the BMI outcome as 25.1 BMI and that falls into the OVERWEIGHT category. \n",
    "\n",
    "* I'LL be using this formular from thr picture to to build the BMI Calculator and i'll  be using the references from the picture above , the FORMULAR will be BMI = (weight in pounds * 703)/ (height in inches * height in inches)"
   ]
  },
  {
   "cell_type": "markdown",
   "id": "d5d86f05-3562-4f8b-abd7-519f90f7dfd2",
   "metadata": {},
   "source": [
    "**BMI = (weight in pounds * 703)/ (height in inches * height in inches)**"
   ]
  },
  {
   "cell_type": "markdown",
   "id": "2945b2bf-0bb2-4ed1-9c0b-4e79386d15d2",
   "metadata": {},
   "source": [
    "# Solution"
   ]
  },
  {
   "cell_type": "markdown",
   "id": "22aa7d02-2e85-459d-867e-edeb7dccbd94",
   "metadata": {},
   "source": [
    "**First what we need to do is to get an input from a user which means we are going to be using the input funtion.**"
   ]
  },
  {
   "cell_type": "markdown",
   "id": "593c8fbc-5153-4f64-a7de-9ec29820309c",
   "metadata": {},
   "source": [
    "* What we need to calculate first is our weight which is '170' from the picture above"
   ]
  },
  {
   "cell_type": "code",
   "execution_count": 24,
   "id": "6d250f20-5479-4155-8408-abb06cd4dffc",
   "metadata": {},
   "outputs": [
    {
     "name": "stdin",
     "output_type": "stream",
     "text": [
      " 170\n"
     ]
    }
   ],
   "source": [
    "weight = input()"
   ]
  },
  {
   "cell_type": "code",
   "execution_count": 26,
   "id": "5de4b68b-da0c-4f06-8c81-160aa841fe93",
   "metadata": {},
   "outputs": [
    {
     "name": "stdout",
     "output_type": "stream",
     "text": [
      "170\n"
     ]
    }
   ],
   "source": [
    "print(weight)"
   ]
  },
  {
   "cell_type": "markdown",
   "id": "ac91beb4-7196-4167-9904-19d1a3082164",
   "metadata": {},
   "source": [
    "* so i'll just give a prompt for the weight which i'll be adding '\"enter your weight in pounds: \"."
   ]
  },
  {
   "cell_type": "code",
   "execution_count": 6,
   "id": "73ae6169-1956-4187-a0ab-eed8b8cebc90",
   "metadata": {},
   "outputs": [
    {
     "name": "stdin",
     "output_type": "stream",
     "text": [
      "enter your weight in pounds:  170\n"
     ]
    }
   ],
   "source": [
    "weight = input(\"enter your weight in pounds: \")"
   ]
  },
  {
   "cell_type": "code",
   "execution_count": 8,
   "id": "aa284198-d891-412b-bae8-4f1eacfae9a7",
   "metadata": {},
   "outputs": [
    {
     "name": "stdout",
     "output_type": "stream",
     "text": [
      "170\n"
     ]
    }
   ],
   "source": [
    "print(weight)"
   ]
  },
  {
   "cell_type": "markdown",
   "id": "71c0ca1f-ba61-4ca4-a3f5-48f052985ada",
   "metadata": {},
   "source": [
    "* Now i'll be doing the same thing for HEIGHT"
   ]
  },
  {
   "cell_type": "code",
   "execution_count": 28,
   "id": "09f36ef6-6d4a-4a7e-a572-9f056149f941",
   "metadata": {},
   "outputs": [
    {
     "name": "stdin",
     "output_type": "stream",
     "text": [
      "enter your heigjt in pounds:  69\n"
     ]
    }
   ],
   "source": [
    "height = input(\"enter your heigjt in pounds: \")"
   ]
  },
  {
   "cell_type": "code",
   "execution_count": 32,
   "id": "0e834938-c6d5-4917-a6d1-338ebd98ac53",
   "metadata": {},
   "outputs": [
    {
     "name": "stdout",
     "output_type": "stream",
     "text": [
      "69\n"
     ]
    }
   ],
   "source": [
    "print(height)"
   ]
  },
  {
   "cell_type": "markdown",
   "id": "80041af6-ab03-4e7e-96b9-7811e3cba9c0",
   "metadata": {},
   "source": [
    "* Now i'll be adding the HEIGHT and WEIGHT in the same cell"
   ]
  },
  {
   "cell_type": "code",
   "execution_count": 133,
   "id": "ecd060aa-d151-4622-b9dc-4757191be35c",
   "metadata": {},
   "outputs": [
    {
     "name": "stdin",
     "output_type": "stream",
     "text": [
      "enter your weight in pounds:  170\n",
      "enter your weight in pounds:  69\n"
     ]
    }
   ],
   "source": [
    "weight = input(\"enter your weight in pounds: \")\n",
    "height = input(\"enter your weight in pounds: \")"
   ]
  },
  {
   "cell_type": "markdown",
   "id": "8134a9c4-58ca-4777-8155-6ae64a66008e",
   "metadata": {},
   "source": [
    "* What i did next was adding the formular from the Picture above : BMI = (weight in pounds * 703)/ (height in inches * height in inches)"
   ]
  },
  {
   "cell_type": "code",
   "execution_count": 34,
   "id": "b6c99540-ea9c-40c6-a4b8-8f94426f6491",
   "metadata": {},
   "outputs": [
    {
     "name": "stdin",
     "output_type": "stream",
     "text": [
      "Enter your weight in pounds:  170\n",
      "Enter your height in pounds:  69\n"
     ]
    },
    {
     "ename": "TypeError",
     "evalue": "can't multiply sequence by non-int of type 'str'",
     "output_type": "error",
     "traceback": [
      "\u001b[1;31m---------------------------------------------------------------------------\u001b[0m",
      "\u001b[1;31mTypeError\u001b[0m                                 Traceback (most recent call last)",
      "Cell \u001b[1;32mIn[34], line 5\u001b[0m\n\u001b[0;32m      1\u001b[0m weight \u001b[38;5;241m=\u001b[39m \u001b[38;5;28minput\u001b[39m(\u001b[38;5;124m'\u001b[39m\u001b[38;5;124mEnter your weight in pounds: \u001b[39m\u001b[38;5;124m'\u001b[39m)\n\u001b[0;32m      3\u001b[0m height \u001b[38;5;241m=\u001b[39m \u001b[38;5;28minput\u001b[39m(\u001b[38;5;124m'\u001b[39m\u001b[38;5;124mEnter your height in pounds: \u001b[39m\u001b[38;5;124m'\u001b[39m)\n\u001b[1;32m----> 5\u001b[0m BMI \u001b[38;5;241m=\u001b[39m (weight \u001b[38;5;241m*\u001b[39m \u001b[38;5;241m703\u001b[39m)\u001b[38;5;241m/\u001b[39m (height  \u001b[38;5;241m*\u001b[39m height)\n",
      "\u001b[1;31mTypeError\u001b[0m: can't multiply sequence by non-int of type 'str'"
     ]
    }
   ],
   "source": [
    "weight = input('Enter your weight in pounds: ')\n",
    "\n",
    "height = input('Enter your height in pounds: ')\n",
    "\n",
    "BMI = (weight * 703)/ (height  * height)"
   ]
  },
  {
   "cell_type": "markdown",
   "id": "081a9df6-f568-401e-b7b3-de06d0a0ab8d",
   "metadata": {},
   "source": [
    "**NOTE: After i run the cell above, it gave an error saying: \"can't multiply sequence by non-int of type 'str'\" which is because the HEIGHT and WEIGHT are being stored in string. and i'll be showing you below:**"
   ]
  },
  {
   "cell_type": "code",
   "execution_count": 36,
   "id": "3b7e93e7-4793-4ad6-ac71-7a8ab4e9e93f",
   "metadata": {},
   "outputs": [
    {
     "data": {
      "text/plain": [
       "str"
      ]
     },
     "execution_count": 36,
     "metadata": {},
     "output_type": "execute_result"
    }
   ],
   "source": [
    "type(weight)"
   ]
  },
  {
   "cell_type": "code",
   "execution_count": 38,
   "id": "85c9b8eb-08de-469c-a20f-53c23c18b9aa",
   "metadata": {},
   "outputs": [
    {
     "data": {
      "text/plain": [
       "str"
      ]
     },
     "execution_count": 38,
     "metadata": {},
     "output_type": "execute_result"
    }
   ],
   "source": [
    "type(height)"
   ]
  },
  {
   "cell_type": "markdown",
   "id": "a27d0c21-b161-4d05-8fa8-fa6e79093177",
   "metadata": {},
   "source": [
    "* What i need to do next is to convert the STRING(Height and Weight) into an INTEGER for the CELL to run"
   ]
  },
  {
   "cell_type": "code",
   "execution_count": 40,
   "id": "37898a70-b00d-417f-a3f3-f4d7cee3bef6",
   "metadata": {},
   "outputs": [
    {
     "name": "stdin",
     "output_type": "stream",
     "text": [
      "Enter your weight in pounds:  170\n"
     ]
    }
   ],
   "source": [
    "weight = int(input('Enter your weight in pounds: '))"
   ]
  },
  {
   "cell_type": "code",
   "execution_count": 42,
   "id": "7b861b7a-fc87-4e8c-ae5b-88845a4533db",
   "metadata": {},
   "outputs": [
    {
     "data": {
      "text/plain": [
       "int"
      ]
     },
     "execution_count": 42,
     "metadata": {},
     "output_type": "execute_result"
    }
   ],
   "source": [
    "type(weight)"
   ]
  },
  {
   "cell_type": "code",
   "execution_count": 46,
   "id": "376a594c-0eba-436e-8bea-51ffa08ff2cf",
   "metadata": {},
   "outputs": [
    {
     "name": "stdin",
     "output_type": "stream",
     "text": [
      "Enter your height in pounds:  69\n"
     ]
    }
   ],
   "source": [
    " height = int(input('Enter your height in pounds: '))"
   ]
  },
  {
   "cell_type": "code",
   "execution_count": 50,
   "id": "47eeda4d-970c-4e79-91ef-d226269d1a1a",
   "metadata": {},
   "outputs": [
    {
     "data": {
      "text/plain": [
       "int"
      ]
     },
     "execution_count": 50,
     "metadata": {},
     "output_type": "execute_result"
    }
   ],
   "source": [
    "type(weight)"
   ]
  },
  {
   "cell_type": "markdown",
   "id": "fc9e1dbd-4642-45d8-9bc2-0a780efa7c5d",
   "metadata": {},
   "source": [
    "* Now i've converted the Height and Weight into an INTEGER in the cells above , i'm going to go ahead to add HEIGHT, WEIGHT and BMI formular together and run it to see if it works."
   ]
  },
  {
   "cell_type": "code",
   "execution_count": 54,
   "id": "5460b9c2-42d7-4071-88ff-ba420087086b",
   "metadata": {},
   "outputs": [
    {
     "name": "stdin",
     "output_type": "stream",
     "text": [
      "Enter your weight in pounds:  170\n",
      "Enter your height in pounds:  69\n"
     ]
    }
   ],
   "source": [
    "weight = int(input('Enter your weight in pounds: '))\n",
    "\n",
    "height = int(input('Enter your height in pounds: '))\n",
    "\n",
    "BMI = (weight * 703)/ (height  * height)"
   ]
  },
  {
   "cell_type": "markdown",
   "id": "307a1ee0-0f70-4728-a83b-9e1751d8c85d",
   "metadata": {},
   "source": [
    "* Now that the cell above has run ,we will notice it is not calculating the BMI that is beacuse we didnt add print to the code,now i'll go ahead and add print(BMI)"
   ]
  },
  {
   "cell_type": "code",
   "execution_count": 56,
   "id": "1c0b5e80-03e0-49cb-adc7-5897e462ed59",
   "metadata": {},
   "outputs": [
    {
     "name": "stdin",
     "output_type": "stream",
     "text": [
      "Enter your weight in pounds:  170\n",
      "Enter your height in pounds:  69\n"
     ]
    },
    {
     "name": "stdout",
     "output_type": "stream",
     "text": [
      "25.101869355177485\n"
     ]
    }
   ],
   "source": [
    "weight = int(input('Enter your weight in pounds: '))\n",
    "\n",
    "height = int(input('Enter your height in pounds: '))\n",
    "\n",
    "BMI = (weight * 703)/ (height  * height)\n",
    "\n",
    "print(BMI)"
   ]
  },
  {
   "cell_type": "markdown",
   "id": "78bab0c6-1343-48cf-805a-3b402342d4fb",
   "metadata": {},
   "source": [
    "* Now we have the excat same value of BMI from the picture from the begining, what we need to do next is to add the ranges from the picture of the calculator above"
   ]
  },
  {
   "cell_type": "code",
   "execution_count": null,
   "id": "39c5d604-a72c-4f01-b428-157b57d3983b",
   "metadata": {},
   "outputs": [],
   "source": [
    "under 18.5--->Underweight-->Minimal\n",
    "18.5 - 24.9-->Normal weight--->Minimal\n",
    "25 - 29.9-->Overweight--->Minimal\n",
    "30 - 34.9--> Obese-->High\n",
    "35 - 39.9--->severly Obese-->Very highqw\n",
    "40 and over->Morbidly obese-->Extremly high"
   ]
  },
  {
   "cell_type": "markdown",
   "id": "811111e7-5c0a-470c-add6-ff55505f7512",
   "metadata": {},
   "source": [
    "* Now what i need do is to give a context to the users when ever they input there weight and height it'll let them know if they are UNDERWEIGHT, NORMAL WEIGHT ,OVERWEIGHT E.T.C from the range reference above , and i will be using the IF, ELIF and ELSE Statement to do that using preference above."
   ]
  },
  {
   "cell_type": "code",
   "execution_count": 74,
   "id": "590e7efd-7c84-4714-941f-48e8e28de252",
   "metadata": {},
   "outputs": [
    {
     "name": "stdout",
     "output_type": "stream",
     "text": [
      "you are Overweight.\n"
     ]
    }
   ],
   "source": [
    "if BMI>0:\n",
    "    if (BMI<18.5):\n",
    "        print('you are underweight.')\n",
    "    elif (BMI<=24.9):\n",
    "        print('you are Normal weight.')\n",
    "    elif (BMI<29.9):\n",
    "        print('you are Overweight.')\n",
    "    elif (BMI<34.9):\n",
    "        print('you are Obese.')\n",
    "    elif (BMI<39.9):\n",
    "        print('you are Severly Obese.')\n",
    "    else:\n",
    "        print('You are Morbidly Obese')\n",
    "else:\n",
    "     print('Enter valid input')\n",
    "    "
   ]
  },
  {
   "cell_type": "markdown",
   "id": "57509189-3224-427b-9428-543bf2b1705a",
   "metadata": {},
   "source": [
    "* After using the statement to creatE the cell above my outcome was \" you are Overweight\" becauce my initial BMI value is 25.1 and it falls in the classification of 'you are overweight'.\n",
    "* To give this more context i will add name to cell 56 in order to make the context look more meaningful."
   ]
  },
  {
   "cell_type": "code",
   "execution_count": 82,
   "id": "ba280009-c7cb-477f-b7c0-d4f52eb0a65d",
   "metadata": {},
   "outputs": [
    {
     "name": "stdin",
     "output_type": "stream",
     "text": [
      "Enter your name OYEWOLE HABEB AYOMIDE\n",
      "Enter your weight in pounds:  170\n",
      "Enter your height in pounds:  69\n"
     ]
    },
    {
     "name": "stdout",
     "output_type": "stream",
     "text": [
      "25.101869355177485\n"
     ]
    }
   ],
   "source": [
    "name = input('Enter your name')\n",
    "\n",
    "weight = int(input('Enter your weight in pounds: '))\n",
    "\n",
    "height = int(input('Enter your height in pounds: '))\n",
    "\n",
    "BMI = (weight * 703)/ (height  * height)\n",
    "\n",
    "print(BMI)"
   ]
  },
  {
   "cell_type": "markdown",
   "id": "22d3a4b7-31f4-4137-b29d-9d2f1c0626c6",
   "metadata": {},
   "source": [
    "* Now that i have added the name to the context i'll implement it in the IF ELIF and ELSE statement"
   ]
  },
  {
   "cell_type": "code",
   "execution_count": 90,
   "id": "e6b3b5a8-5640-4d1e-b90f-fadabfe389df",
   "metadata": {},
   "outputs": [
    {
     "name": "stdout",
     "output_type": "stream",
     "text": [
      "OYEWOLE HABEB AYOMIDE, you are Overweight.\n"
     ]
    }
   ],
   "source": [
    "\n",
    "if BMI>0:\n",
    "    if (BMI<18.5):\n",
    "        print(name +', you are underweight.')\n",
    "    elif (BMI<=24.9):\n",
    "        print(name +', you are Normal weight.')\n",
    "    elif (BMI<29.9):\n",
    "        print(name +', you are Overweight.')\n",
    "    elif (BMI<34.9):\n",
    "        print(name +', you are Obese.')\n",
    "    elif (BMI<39.9):\n",
    "        print(name +', you are Severly Obese.')\n",
    "    else:\n",
    "        print(name +', You are Morbidly Obese')\n",
    "else:\n",
    "     print('Enter valid input')"
   ]
  },
  {
   "cell_type": "markdown",
   "id": "e68688b6-13c7-4863-a035-b0b1dac34659",
   "metadata": {},
   "source": [
    "* After successfully creating the IF ELIF and ELSE statement for the RANGE references so that whenever a user inputs his or her WEIGHT and HEIGHT information the calculator will tell them the classification they fall under, now i'll have to merge cell 82 and 90 togther."
   ]
  },
  {
   "cell_type": "code",
   "execution_count": 92,
   "id": "37b40cad-9ccc-400d-9cd3-b60557071fd7",
   "metadata": {},
   "outputs": [
    {
     "name": "stdin",
     "output_type": "stream",
     "text": [
      "Enter your name OEWOLE HABEEB AYOMIDE\n",
      "Enter your weight in pounds:  170\n",
      "Enter your height in pounds:  69\n"
     ]
    },
    {
     "name": "stdout",
     "output_type": "stream",
     "text": [
      "OEWOLE HABEEB AYOMIDE, you are Overweight.\n"
     ]
    }
   ],
   "source": [
    "name = input('Enter your name')\n",
    "\n",
    "weight = int(input('Enter your weight in pounds: '))\n",
    "\n",
    "height = int(input('Enter your height in pounds: '))\n",
    "\n",
    "BMI = (weight * 703)/ (height  * height)\n",
    "\n",
    "if BMI>0:\n",
    "    if (BMI<18.5):\n",
    "        print(name +', you are underweight.')\n",
    "    elif (BMI<=24.9):\n",
    "        print(name +', you are Normal weight.')\n",
    "    elif (BMI<29.9):\n",
    "        print(name +', you are Overweight.')\n",
    "    elif (BMI<34.9):\n",
    "        print(name +', you are Obese.')\n",
    "    elif (BMI<39.9):\n",
    "        print(name +', you are Severly Obese.')\n",
    "    else:\n",
    "        print(name +', You are Morbidly Obese')\n",
    "else:\n",
    "     print('Enter valid input')\n"
   ]
  },
  {
   "cell_type": "code",
   "execution_count": null,
   "id": "615cae2b-a393-49fa-b3b3-ba008a2480aa",
   "metadata": {},
   "outputs": [],
   "source": []
  },
  {
   "cell_type": "code",
   "execution_count": null,
   "id": "91d3f19e-5f56-44e1-817b-538ee3ef65aa",
   "metadata": {},
   "outputs": [],
   "source": []
  },
  {
   "cell_type": "code",
   "execution_count": null,
   "id": "ee6e989f-2120-486a-bcab-f052cbf359d5",
   "metadata": {},
   "outputs": [],
   "source": []
  },
  {
   "cell_type": "code",
   "execution_count": null,
   "id": "33b361d4-b06f-43b6-a51d-14c42717e3f2",
   "metadata": {},
   "outputs": [],
   "source": []
  },
  {
   "cell_type": "code",
   "execution_count": null,
   "id": "0fea85c1-48f1-4d35-a377-a21d8c4b7c61",
   "metadata": {},
   "outputs": [],
   "source": []
  },
  {
   "cell_type": "code",
   "execution_count": null,
   "id": "ebd2b33b-3706-4d5b-9a0e-1dd2aabf4a94",
   "metadata": {},
   "outputs": [],
   "source": []
  },
  {
   "cell_type": "code",
   "execution_count": null,
   "id": "e73bf643-6cc0-47a2-ab6e-78e2e804f011",
   "metadata": {},
   "outputs": [],
   "source": []
  },
  {
   "cell_type": "code",
   "execution_count": null,
   "id": "bcb21256-5446-4cd9-bb60-890e99e48fd0",
   "metadata": {},
   "outputs": [],
   "source": []
  },
  {
   "cell_type": "code",
   "execution_count": null,
   "id": "cd06af78-4cfa-4009-b115-ec980591324f",
   "metadata": {},
   "outputs": [],
   "source": []
  },
  {
   "cell_type": "code",
   "execution_count": null,
   "id": "d2ca31b1-d356-4462-8318-eea90f77be35",
   "metadata": {},
   "outputs": [],
   "source": []
  },
  {
   "cell_type": "code",
   "execution_count": null,
   "id": "970f1d62-f4c6-4c26-bdbf-541d48b60fb6",
   "metadata": {},
   "outputs": [],
   "source": []
  },
  {
   "cell_type": "code",
   "execution_count": null,
   "id": "d0487130-9e40-4bd9-9191-d4b2711f10a1",
   "metadata": {},
   "outputs": [],
   "source": []
  },
  {
   "cell_type": "code",
   "execution_count": null,
   "id": "5e4f879e-9de8-4660-a21c-04d3fd520716",
   "metadata": {},
   "outputs": [],
   "source": []
  },
  {
   "cell_type": "code",
   "execution_count": null,
   "id": "42246570-7185-4988-abf5-91b250140652",
   "metadata": {},
   "outputs": [],
   "source": []
  },
  {
   "cell_type": "code",
   "execution_count": null,
   "id": "2b036622-cfab-46fe-a50c-542fc00c9d92",
   "metadata": {},
   "outputs": [],
   "source": []
  },
  {
   "cell_type": "code",
   "execution_count": null,
   "id": "4826073f-baf7-46b6-b9eb-fe85cee33a2d",
   "metadata": {},
   "outputs": [],
   "source": []
  },
  {
   "cell_type": "code",
   "execution_count": null,
   "id": "888f4baf-4423-46a6-97fb-82fb32de7134",
   "metadata": {},
   "outputs": [],
   "source": []
  },
  {
   "cell_type": "code",
   "execution_count": null,
   "id": "e3d609ad-21a9-4fda-a20b-f211dcec1dde",
   "metadata": {},
   "outputs": [],
   "source": []
  },
  {
   "cell_type": "code",
   "execution_count": null,
   "id": "52ce8919-8ecf-43dd-b662-30c3b2e66ec6",
   "metadata": {},
   "outputs": [],
   "source": []
  },
  {
   "cell_type": "code",
   "execution_count": null,
   "id": "f1b9e735-02e6-456a-9e4e-9c26a8ea2428",
   "metadata": {},
   "outputs": [],
   "source": []
  },
  {
   "cell_type": "code",
   "execution_count": null,
   "id": "e8dacbc5-e04b-44e0-909e-daccea848fc5",
   "metadata": {},
   "outputs": [],
   "source": []
  },
  {
   "cell_type": "code",
   "execution_count": null,
   "id": "d17739cd-94da-4d18-8402-acd719d2c9c0",
   "metadata": {},
   "outputs": [],
   "source": []
  },
  {
   "cell_type": "code",
   "execution_count": null,
   "id": "3d9e5a6c-f86a-49fe-aaa1-1ae07f4cdffe",
   "metadata": {},
   "outputs": [],
   "source": []
  },
  {
   "cell_type": "code",
   "execution_count": null,
   "id": "6fccbdd3-801e-415e-bfa3-ed5fbbc89fed",
   "metadata": {},
   "outputs": [],
   "source": []
  },
  {
   "cell_type": "code",
   "execution_count": null,
   "id": "0dd19728-f613-44e1-89af-183d747df303",
   "metadata": {},
   "outputs": [],
   "source": []
  },
  {
   "cell_type": "code",
   "execution_count": null,
   "id": "147bc826-b5fd-43ce-a3b7-2676f9678180",
   "metadata": {},
   "outputs": [],
   "source": []
  },
  {
   "cell_type": "code",
   "execution_count": null,
   "id": "bbc69dc1-98af-422d-b16b-8f3f69e029ac",
   "metadata": {},
   "outputs": [],
   "source": []
  },
  {
   "cell_type": "code",
   "execution_count": null,
   "id": "be991ddc-2ca8-4071-89aa-56f90e93faf0",
   "metadata": {},
   "outputs": [],
   "source": []
  },
  {
   "cell_type": "code",
   "execution_count": null,
   "id": "c6bdbea6-a700-43a2-bde6-8dd899fa24ad",
   "metadata": {},
   "outputs": [],
   "source": []
  },
  {
   "cell_type": "code",
   "execution_count": null,
   "id": "a7673ce6-f790-4b4d-9636-36ca72143442",
   "metadata": {},
   "outputs": [],
   "source": []
  },
  {
   "cell_type": "code",
   "execution_count": null,
   "id": "d048c146-9b9b-436a-aceb-a7972309e3bd",
   "metadata": {},
   "outputs": [],
   "source": []
  },
  {
   "cell_type": "code",
   "execution_count": null,
   "id": "64d31ef0-5606-4ebf-a237-5690f012f671",
   "metadata": {},
   "outputs": [],
   "source": []
  },
  {
   "cell_type": "code",
   "execution_count": null,
   "id": "ab217d25-057b-427f-bf1d-a8daf52f5103",
   "metadata": {},
   "outputs": [],
   "source": []
  },
  {
   "cell_type": "code",
   "execution_count": null,
   "id": "ad350d30-0782-4083-ac6e-a90c9d787af0",
   "metadata": {},
   "outputs": [],
   "source": []
  },
  {
   "cell_type": "code",
   "execution_count": null,
   "id": "5d00522f-6d70-497c-b3f8-550755ccafa4",
   "metadata": {},
   "outputs": [],
   "source": []
  },
  {
   "cell_type": "code",
   "execution_count": null,
   "id": "62b317fd-a526-46da-b0f3-2c209313ade0",
   "metadata": {},
   "outputs": [],
   "source": []
  },
  {
   "cell_type": "code",
   "execution_count": null,
   "id": "07a08ea3-a294-475b-808f-37d9effe43f8",
   "metadata": {},
   "outputs": [],
   "source": []
  },
  {
   "cell_type": "code",
   "execution_count": null,
   "id": "1bfd376f-afe6-4191-bb14-e9c385828844",
   "metadata": {},
   "outputs": [],
   "source": []
  },
  {
   "cell_type": "code",
   "execution_count": null,
   "id": "1531652c-4eef-4b93-b21e-899e908a3041",
   "metadata": {},
   "outputs": [],
   "source": []
  },
  {
   "cell_type": "code",
   "execution_count": null,
   "id": "dd06c237-7638-4710-9567-bdc5eb3bf1ab",
   "metadata": {},
   "outputs": [],
   "source": []
  },
  {
   "cell_type": "code",
   "execution_count": null,
   "id": "4f554ba0-b975-4f41-84ec-027ae945e966",
   "metadata": {},
   "outputs": [],
   "source": []
  },
  {
   "cell_type": "code",
   "execution_count": null,
   "id": "0cd4d897-dc27-46b0-a429-40265be96d39",
   "metadata": {},
   "outputs": [],
   "source": []
  },
  {
   "cell_type": "code",
   "execution_count": null,
   "id": "8cdade2c-b8c8-4f8e-aff5-e8657b2d57a0",
   "metadata": {},
   "outputs": [],
   "source": []
  },
  {
   "cell_type": "code",
   "execution_count": null,
   "id": "a7ea52a6-2c83-4694-bac4-5c41ead7ab92",
   "metadata": {},
   "outputs": [],
   "source": []
  },
  {
   "cell_type": "code",
   "execution_count": null,
   "id": "66c0011a-f1e6-4671-b3da-a38faeef3aeb",
   "metadata": {},
   "outputs": [],
   "source": []
  },
  {
   "cell_type": "code",
   "execution_count": null,
   "id": "8a168431-c1cc-4d7f-88d7-42eb9c7c8e39",
   "metadata": {},
   "outputs": [],
   "source": []
  },
  {
   "cell_type": "code",
   "execution_count": null,
   "id": "d9c70afd-e975-4865-b02f-92a93a41243a",
   "metadata": {},
   "outputs": [],
   "source": []
  },
  {
   "cell_type": "code",
   "execution_count": null,
   "id": "dd8c135c-25bc-4a52-b2be-2fbf43fc49cc",
   "metadata": {},
   "outputs": [],
   "source": []
  },
  {
   "cell_type": "code",
   "execution_count": null,
   "id": "6ae3f7f5-72a9-4e76-a376-8a76b8f36cc6",
   "metadata": {},
   "outputs": [],
   "source": []
  },
  {
   "cell_type": "code",
   "execution_count": null,
   "id": "b9118fdb-88c0-4d2a-831a-0d303e786936",
   "metadata": {},
   "outputs": [],
   "source": []
  },
  {
   "cell_type": "code",
   "execution_count": null,
   "id": "9938cc70-3ab3-44c0-86e3-bccba653014d",
   "metadata": {},
   "outputs": [],
   "source": []
  },
  {
   "cell_type": "code",
   "execution_count": null,
   "id": "4698b4b6-2059-4174-945e-1f007e284640",
   "metadata": {},
   "outputs": [],
   "source": []
  },
  {
   "cell_type": "code",
   "execution_count": null,
   "id": "c9f32d0d-9aa8-4936-a31c-b5081f150ca4",
   "metadata": {},
   "outputs": [],
   "source": []
  },
  {
   "cell_type": "code",
   "execution_count": null,
   "id": "f9a69f75-a5ab-4fa9-aa64-de53bb9f44fb",
   "metadata": {},
   "outputs": [],
   "source": []
  }
 ],
 "metadata": {
  "kernelspec": {
   "display_name": "Python [conda env:base] *",
   "language": "python",
   "name": "conda-base-py"
  },
  "language_info": {
   "codemirror_mode": {
    "name": "ipython",
    "version": 3
   },
   "file_extension": ".py",
   "mimetype": "text/x-python",
   "name": "python",
   "nbconvert_exporter": "python",
   "pygments_lexer": "ipython3",
   "version": "3.12.7"
  }
 },
 "nbformat": 4,
 "nbformat_minor": 5
}
